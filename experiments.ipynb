{
 "cells": [
  {
   "cell_type": "code",
   "execution_count": 158,
   "id": "d7d83a94",
   "metadata": {},
   "outputs": [],
   "source": [
    "from tanh import Tanh\n",
    "from numpy import tanh as tgh\n",
    "import numpy as np\n",
    "import timeit\n",
    "import pandas as pd\n",
    "import seaborn as sns\n",
    "from tqdm import tqdm\n",
    "\n",
    "sns.color_palette(\"Spectral\", as_cmap=True)\n",
    "sns.set_style(\"whitegrid\")\n",
    "sns.set(rc={'figure.figsize':(11.7,8.27)})\n",
    "\n",
    "\n",
    "\n",
    "my_tgh = Tanh()"
   ]
  },
  {
   "cell_type": "markdown",
   "id": "470235a2",
   "metadata": {},
   "source": [
    "### Замеры скорости и сравнение с numpy версией tanh"
   ]
  },
  {
   "cell_type": "markdown",
   "id": "aa8f2a1a",
   "metadata": {},
   "source": [
    "### Скалярный вход"
   ]
  },
  {
   "cell_type": "code",
   "execution_count": 169,
   "id": "c72cd3dd",
   "metadata": {},
   "outputs": [],
   "source": [
    "n = 10000000\n",
    "x = 100"
   ]
  },
  {
   "cell_type": "code",
   "execution_count": 170,
   "id": "a30195d6",
   "metadata": {},
   "outputs": [
    {
     "name": "stdout",
     "output_type": "stream",
     "text": [
      "число замеров: 10000000\n",
      "______________________________________________________________________________\n",
      "___________________________scalar forward_____________________________________\n",
      "my_tanh(x):    0.8 us\n",
      "numpy_tanh(x):        1.3 us\n"
     ]
    }
   ],
   "source": [
    "t0 = timeit.Timer(\n",
    "    stmt=\"my_tanh(x)\",\n",
    "    setup=\"\"\"from tanh import Tanh\\nmy_tanh=Tanh()\"\"\",\n",
    "    globals={\"x\": x},\n",
    ")\n",
    "\n",
    "t1 = timeit.Timer(\n",
    "    stmt=\"tanh(x)\",\n",
    "    setup=\"\"\"from numpy import tanh\"\"\",\n",
    "    globals={\"x\": x},\n",
    ")\n",
    "\n",
    "print(f\"число замеров: {n}\")\n",
    "print(\"______________________________________________________________________________\")\n",
    "print(\"___________________________scalar forward_____________________________________\")\n",
    "print(f\"my_tanh(x):  {t0.timeit(n) / n * 1e6:>5.1f} us\")\n",
    "print(f\"numpy_tanh(x):      {t1.timeit(n) / n * 1e6:>5.1f} us\")\n",
    "     "
   ]
  },
  {
   "cell_type": "markdown",
   "id": "8ab95cdd",
   "metadata": {},
   "source": [
    "Средняя скорость работы наивной реализации практически в два раза меньше"
   ]
  },
  {
   "cell_type": "markdown",
   "id": "d0ffff94",
   "metadata": {},
   "source": [
    "### Матричный вход"
   ]
  },
  {
   "cell_type": "code",
   "execution_count": 167,
   "id": "ec8fbe12",
   "metadata": {},
   "outputs": [],
   "source": [
    "n = 100\n",
    "\n",
    "matrix_shape = (10, 10)\n",
    "\n",
    "\n",
    "x = np.random.rand(*matrix_shape)"
   ]
  },
  {
   "cell_type": "code",
   "execution_count": 168,
   "id": "2f2fab17",
   "metadata": {},
   "outputs": [
    {
     "name": "stdout",
     "output_type": "stream",
     "text": [
      "число замеров: 100000\n",
      "______________________________________________________________________________\n",
      "______________________________matrix forward__________________________________\n",
      "my_tanh(x):   59.1 us\n",
      "numpy_tanh(x):        1.9 us\n"
     ]
    }
   ],
   "source": [
    "n = 100000\n",
    "\n",
    "t0 = timeit.Timer(\n",
    "    stmt=\"my_tanh(x)\",\n",
    "    setup=\"\"\"from tanh import Tanh\\nmy_tanh=Tanh()\"\"\",\n",
    "    globals={\"x\": x.tolist()},\n",
    ")\n",
    "\n",
    "t1 = timeit.Timer(\n",
    "    stmt=\"tanh(x)\",\n",
    "    setup=\"\"\"from numpy import tanh\"\"\",\n",
    "    globals={\"x\": x},\n",
    ")\n",
    "\n",
    "print(f\"число замеров: {n}\")\n",
    "print(\"______________________________________________________________________________\")\n",
    "print(\"______________________________matrix forward__________________________________\")\n",
    "print(f\"my_tanh(x):  {t0.timeit(n) / n * 1e6:>5.1f} us\")\n",
    "print(f\"numpy_tanh(x):      {t1.timeit(n) / n * 1e6:>5.1f} us\")"
   ]
  },
  {
   "cell_type": "markdown",
   "id": "f6aa7609",
   "metadata": {},
   "source": [
    "видно что на матрицах наивная реализация заметно медленее\n",
    "\n",
    "это происходит за счёт векторизации в numpy"
   ]
  },
  {
   "cell_type": "code",
   "execution_count": 171,
   "id": "817c2a70",
   "metadata": {},
   "outputs": [
    {
     "name": "stderr",
     "output_type": "stream",
     "text": [
      "100%|██████████████████████████████████████████████████████████████████████████████████| 10/10 [00:57<00:00,  5.74s/it]\n"
     ]
    }
   ],
   "source": [
    "my_tanh_times, numpy_tanh_times = [], []\n",
    "\n",
    "for i in tqdm(range(1, 11)):\n",
    "    n = 10**(max(5, 8 - i))\n",
    "\n",
    "    matrix_shape = (i, i)\n",
    "    x = np.random.rand(*matrix_shape)\n",
    "    \n",
    "    t0 = timeit.Timer(\n",
    "        stmt=\"my_tanh(x)\",\n",
    "        setup=\"\"\"from tanh import Tanh\\nmy_tanh=Tanh()\"\"\",\n",
    "        globals={\"x\": x.tolist()},\n",
    "    )\n",
    "\n",
    "    t1 = timeit.Timer(\n",
    "        stmt=\"tanh(x)\",\n",
    "        setup=\"\"\"from numpy import tanh\"\"\",\n",
    "        globals={\"x\": x},\n",
    "    )\n",
    "    \n",
    "    my_tanh_times.append(t0.timeit(n) / n * 1e6)\n",
    "    numpy_tanh_times.append(t1.timeit(n) / n * 1e6)\n",
    "    \n",
    "df = pd.DataFrame({\n",
    "    'time': my_tanh_times + numpy_tanh_times,\n",
    "    'matrix_shape_n':  2*list(range(1, 11)),\n",
    "    'func': ['naive'] * 10 + ['numpy'] * 10,\n",
    "})"
   ]
  },
  {
   "cell_type": "code",
   "execution_count": 172,
   "id": "e668536f",
   "metadata": {},
   "outputs": [
    {
     "data": {
      "text/plain": [
       "<AxesSubplot:xlabel='matrix_shape_n', ylabel='time'>"
      ]
     },
     "execution_count": 172,
     "metadata": {},
     "output_type": "execute_result"
    },
    {
     "data": {
      "image/png": "[encoded data removed]",
      "text/plain": [
       "<Figure size 842.4x595.44 with 1 Axes>"
      ]
     },
     "metadata": {},
     "output_type": "display_data"
    }
   ],
   "source": [
    "sns.lineplot(data=df, x=\"matrix_shape_n\", y=\"time\", hue=\"func\")"
   ]
  }
 ],
 "metadata": {
  "kernelspec": {
   "display_name": "Python 3 (ipykernel)",
   "language": "python",
   "name": "python3"
  },
  "language_info": {
   "codemirror_mode": {
    "name": "ipython",
    "version": 3
   },
   "file_extension": ".py",
   "mimetype": "text/x-python",
   "name": "python",
   "nbconvert_exporter": "python",
   "pygments_lexer": "ipython3",
   "version": "3.9.12"
  }
 },
 "nbformat": 4,
 "nbformat_minor": 5
}
